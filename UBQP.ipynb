{
 "cells": [
  {
   "cell_type": "code",
   "execution_count": 68,
   "metadata": {},
   "outputs": [
    {
     "data": {
      "text/plain": [
       "ubqp (generic function with 1 method)"
      ]
     },
     "metadata": {},
     "output_type": "display_data"
    }
   ],
   "source": [
    "using Distributions\n",
    "using Printf\n",
    "\n",
    "\n",
    "function climb!(t, q, A, c, λ, σ; maxit)\n",
    "    lt = copy(t)\n",
    "\n",
    "    n = size(t, 1)\n",
    "    v = rand(Binomial(1, .01), n)\n",
    "\n",
    "    for _ in 1:maxit\n",
    "        q .= ifelse.(A' * t - λ - σ + 2 * σ .* t .> 0, 1.0, 0.0)\n",
    "        t .= ifelse.(A * q + v + λ - σ + 2 * σ .* q .> 0, 1.0, 0.0)\n",
    "\n",
    "        if all(lt .== t)\n",
    "            break\n",
    "        end\n",
    "\n",
    "        lt .= t\n",
    "    end\n",
    "end\n",
    "\n",
    "\n",
    "function disturbed(A, μ)\n",
    "    D = randn(size(A))\n",
    "    A + μ * (D - D')\n",
    "end\n",
    "\n",
    "\n",
    "function posneg!(A)\n",
    "    n = size(A, 1)\n",
    "\n",
    "    for _ in 1:5\n",
    "        i = 1 + mod(rand(Int), n)\n",
    "        for j in 1:n\n",
    "            A[j, i] += A[i, j]\n",
    "            A[i, j] = 0\n",
    "        end\n",
    "    end\n",
    "end\n",
    "\n",
    "\n",
    "function ubqp(A, c; lr=1.0, μ=0.0, decay=.999, lrdecay=sqrt(.999), mdecay=sqrt(.999), maxit)\n",
    "    W = eltype(A)\n",
    "    n, n = size(A)\n",
    "\n",
    "    t = zeros(n)\n",
    "    q = zeros(n)\n",
    "    λ = zeros(n)\n",
    "    σ = zeros(n)\n",
    "\n",
    "    tstar = copy(t)\n",
    "    best = -Inf\n",
    "\n",
    "    M = disturbed(A, μ)\n",
    "\n",
    "    for it in 1:maxit\n",
    "        posneg!(M)\n",
    "        climb!(t, q, M, c, λ, σ, maxit=100)\n",
    "\n",
    "        ∇ = q - t\n",
    "        norm = sum(abs.(∇))\n",
    "\n",
    "        if norm <= zero(W)\n",
    "            obj = t' * A * q\n",
    "            if obj > best\n",
    "                tstar, best = copy(t), obj\n",
    "                @printf(\"best = %5.3f\\tlr = %5.3f\\tit = %d\\n\",\n",
    "                    best, lr, it)\n",
    "                flush(stdout)\n",
    "            end\n",
    "\n",
    "            σ *= decay\n",
    "            λ *= decay\n",
    "            lr *= lrdecay\n",
    "            μ *= mdecay\n",
    "\n",
    "            M = disturbed(A, μ)\n",
    "        end\n",
    "\n",
    "        σ += lr * abs.(∇)\n",
    "        λ += lr * ∇\n",
    "    end\n",
    "\n",
    "    tstar\n",
    "end"
   ]
  },
  {
   "cell_type": "code",
   "execution_count": 69,
   "metadata": {},
   "outputs": [
    {
     "data": {
      "text/plain": [
       "instance (generic function with 1 method)"
      ]
     },
     "metadata": {},
     "output_type": "display_data"
    }
   ],
   "source": [
    "using DelimitedFiles: readdlm\n",
    "\n",
    "\n",
    "function instance(path)\n",
    "    open(path) do io\n",
    "        readline(io)\n",
    "        readline(io)\n",
    "        readline(io)\n",
    "\n",
    "        n, m = split(readline(io))\n",
    "        n, m = parse.(Int, (n, m))\n",
    "\n",
    "        if n * n > 1_000_000\n",
    "            @show n m\n",
    "            throw(ErrorException(\"wee bit too large\"))\n",
    "        end\n",
    "\n",
    "        A = zeros(n, n)\n",
    "        while !eof(io)\n",
    "            a, b, w = split(readline(io))\n",
    "            a, b, w = parse.([Int, Int, Float64], [a, b, w])\n",
    "            A[a, b] = w\n",
    "        end\n",
    "\n",
    "        A\n",
    "    end\n",
    "end"
   ]
  }
 ],
 "metadata": {
  "kernelspec": {
   "display_name": "Julia 1.8.0",
   "language": "julia",
   "name": "julia-1.8"
  },
  "language_info": {
   "file_extension": ".jl",
   "mimetype": "application/julia",
   "name": "julia",
   "version": "1.8.0"
  },
  "orig_nbformat": 4
 },
 "nbformat": 4,
 "nbformat_minor": 2
}
