{
 "cells": [
  {
   "cell_type": "code",
   "execution_count": 119,
   "metadata": {},
   "outputs": [],
   "source": [
    "using Concorde\n",
    "using LinearAlgebra"
   ]
  },
  {
   "cell_type": "code",
   "execution_count": 168,
   "metadata": {},
   "outputs": [
    {
     "data": {
      "text/plain": [
       "atsp (generic function with 1 method)"
      ]
     },
     "execution_count": 168,
     "metadata": {},
     "output_type": "execute_result"
    }
   ],
   "source": [
    "using Printf\n",
    "\n",
    "\n",
    "function _assign!(T, M)\n",
    "    W = eltype(T)\n",
    "\n",
    "    T .= zero(W)\n",
    "    _, indices = findmax(M, dims=2)\n",
    "    T[indices] .= one(W)\n",
    "end\n",
    "\n",
    "\n",
    "function _saddle_tsp!(T, Q, A, Λ, Σ, P; maxit)\n",
    "    n = size(T, 1)\n",
    "\n",
    "    lT = copy(T)\n",
    "    for _ in 1:maxit\n",
    "        _assign!(Q, P' * T' * A - Λ' - Σ' + 2 * Σ' .* T')\n",
    "        _assign!(T, A * Q' * T' + Λ - Σ + 2 * Σ .* Q')\n",
    "\n",
    "        if all(lT .== T)\n",
    "            break\n",
    "        end\n",
    "\n",
    "        lT .= T\n",
    "    end\n",
    "end\n",
    "\n",
    "\n",
    "function _objective_tsp(T, A, P)\n",
    "    sum((T * P * T') .* A)\n",
    "end\n",
    "\n",
    "\n",
    "function atsp(A; lr=1.0, lrdecay=sqrt(.999), decay=.999, maxit)\n",
    "    n = size(A, 1)\n",
    "\n",
    "    T = zeros(n, n)\n",
    "    Q = zeros(n, n)\n",
    "    Λ = zeros(n, n)\n",
    "    Σ = zeros(n, n)\n",
    "\n",
    "    Tbest = copy(T)\n",
    "    best = -Inf\n",
    "\n",
    "    P = [zeros(n - 1) I(n - 1); 1 zeros(n - 1)']\n",
    "\n",
    "    for it in 1:maxit\n",
    "        _saddle_tsp!(T, Q, A, Λ, Σ, P, maxit=1)\n",
    "\n",
    "        ∇ = Q' - T\n",
    "        norm = sum(abs.(∇))\n",
    "\n",
    "        if norm <= 0\n",
    "            obj = _objective_tsp(T, A, P)\n",
    "            if obj > best\n",
    "                Tbest, best = copy(T), obj\n",
    "                @printf(\"best = %5.3f\\tlr = %5.3f\\tit = %d\\n\",\n",
    "                    best, lr, it)\n",
    "                flush(stdout)\n",
    "            end\n",
    "\n",
    "            Σ *= decay\n",
    "            Λ *= decay\n",
    "            lr *= lrdecay\n",
    "        end\n",
    "\n",
    "        Σ += lr * abs.(∇)\n",
    "        Λ += lr * ∇\n",
    "    end\n",
    "\n",
    "    Tbest\n",
    "end"
   ]
  },
  {
   "cell_type": "code",
   "execution_count": 220,
   "metadata": {},
   "outputs": [
    {
     "data": {
      "text/plain": [
       "500×500 Matrix{Int64}:\n",
       " 0  0  0  0  0  0  0  0  0  0  0  0  0  …  0  0  0  0  0  0  0  1  0  0  0  0\n",
       " 0  0  0  0  0  0  0  0  0  0  0  0  0     0  0  1  0  1  0  0  0  0  0  0  0\n",
       " 0  0  0  0  0  1  0  0  0  0  0  0  0     0  0  0  0  0  1  0  0  0  0  0  0\n",
       " 0  0  0  0  0  1  0  0  0  0  0  0  0     0  0  0  0  1  0  0  0  0  0  0  0\n",
       " 0  0  0  0  0  0  0  0  0  0  1  0  0     0  0  0  0  0  0  1  0  0  0  0  0\n",
       " 0  0  1  1  0  0  0  0  0  0  0  0  0  …  0  0  0  0  0  0  0  0  0  0  0  0\n",
       " 0  0  0  0  0  0  0  0  0  0  0  0  0     0  0  0  1  0  0  0  0  0  0  1  0\n",
       " 0  0  0  0  0  0  0  0  0  0  0  0  0     0  0  0  0  0  0  0  0  1  0  0  0\n",
       " 0  0  0  0  0  0  0  0  0  0  0  0  0     0  0  0  0  0  0  0  0  0  0  0  0\n",
       " 0  0  0  0  0  0  0  0  0  0  0  0  0     0  0  0  0  0  0  0  0  0  0  1  0\n",
       " 0  0  0  0  1  0  0  0  0  0  0  0  0  …  0  0  0  0  0  0  0  0  0  0  0  0\n",
       " 0  0  0  0  0  0  0  0  0  0  0  0  0     0  0  0  0  0  0  0  0  1  0  0  1\n",
       " 0  0  0  0  0  0  0  0  0  0  0  0  0     0  0  0  0  0  0  0  0  0  0  0  0\n",
       " ⋮              ⋮              ⋮        ⋱        ⋮              ⋮           \n",
       " 0  0  0  0  0  0  0  0  0  0  0  0  0     0  0  0  0  0  1  0  0  0  0  0  0\n",
       " 0  0  0  0  0  0  0  0  0  0  0  0  0     0  0  0  0  0  0  0  0  0  0  0  0\n",
       " 0  1  0  0  0  0  0  0  0  0  0  0  0  …  0  0  0  0  0  0  0  0  0  0  0  0\n",
       " 0  0  0  0  0  0  1  0  0  0  0  0  0     0  0  0  0  0  0  1  0  0  0  0  0\n",
       " 0  1  0  1  0  0  0  0  0  0  0  0  0     0  0  0  0  0  1  0  0  0  0  0  0\n",
       " 0  0  1  0  0  0  0  0  0  0  0  0  0     1  0  0  0  1  0  0  0  0  0  0  0\n",
       " 0  0  0  0  1  0  0  0  0  0  0  0  0     0  0  0  1  0  0  0  0  0  0  0  0\n",
       " 1  0  0  0  0  0  0  0  0  0  0  0  0  …  0  0  0  0  0  0  0  0  0  0  0  0\n",
       " 0  0  0  0  0  0  0  1  0  0  0  1  0     0  0  0  0  0  0  0  0  0  0  0  0\n",
       " 0  0  0  0  0  0  0  0  0  0  0  0  0     0  0  0  0  0  0  0  0  0  0  0  0\n",
       " 0  0  0  0  0  0  1  0  0  1  0  0  0     0  0  0  0  0  0  0  0  0  0  0  0\n",
       " 0  0  0  0  0  0  0  0  0  0  0  1  0     0  0  0  0  0  0  0  0  0  0  0  0"
      ]
     },
     "execution_count": 220,
     "metadata": {},
     "output_type": "execute_result"
    }
   ],
   "source": [
    "n = 500\n",
    "A = rand(Int, n, n) .% 2\n",
    "A = min.(A, A')\n",
    "A = ifelse.(A .< 0, 0, A)\n",
    "A[diagind(A)] .= 0\n",
    "A"
   ]
  },
  {
   "cell_type": "code",
   "execution_count": 221,
   "metadata": {},
   "outputs": [
    {
     "data": {
      "text/plain": [
       "500"
      ]
     },
     "execution_count": 221,
     "metadata": {},
     "output_type": "execute_result"
    }
   ],
   "source": [
    "_, score = solve_tsp(-A)\n",
    "-score"
   ]
  },
  {
   "cell_type": "code",
   "execution_count": 223,
   "metadata": {},
   "outputs": [
    {
     "name": "stdout",
     "output_type": "stream",
     "text": [
      "best = 133.000\tlr = 10.000\tit = 3615\n"
     ]
    },
    {
     "ename": "LoadError",
     "evalue": "InterruptException:",
     "output_type": "error",
     "traceback": [
      "InterruptException:",
      "",
      "Stacktrace:",
      "  [1] Array",
      "    @ ./boot.jl:461 [inlined]",
      "  [2] Array",
      "    @ ./boot.jl:469 [inlined]",
      "  [3] Array",
      "    @ ./boot.jl:476 [inlined]",
      "  [4] similar",
      "    @ ./abstractarray.jl:841 [inlined]",
      "  [5] similar",
      "    @ ./abstractarray.jl:840 [inlined]",
      "  [6] similar",
      "    @ ./broadcast.jl:212 [inlined]",
      "  [7] similar",
      "    @ ./broadcast.jl:211 [inlined]",
      "  [8] copy",
      "    @ ./broadcast.jl:885 [inlined]",
      "  [9] materialize",
      "    @ ./broadcast.jl:860 [inlined]",
      " [10] broadcast_preserving_zero_d",
      "    @ ./broadcast.jl:849 [inlined]",
      " [11] -(A::Adjoint{Float64, Matrix{Float64}}, B::Matrix{Float64})",
      "    @ Base ./arraymath.jl:8",
      " [12] atsp(A::Matrix{Float64}; lr::Float64, lrdecay::Float64, decay::Float64, maxit::Int64)",
      "    @ Main ./In[168]:51",
      " [13] eval",
      "    @ ./boot.jl:368 [inlined]",
      " [14] include_string(mapexpr::typeof(REPL.softscope), mod::Module, code::String, filename::String)",
      "    @ Base ./loading.jl:1428"
     ]
    }
   ],
   "source": [
    "M = Float64.(A)\n",
    "T = atsp(M, lr=10.0, maxit=300000);\n",
    "_objective_tsp(T, M)"
   ]
  }
 ],
 "metadata": {
  "kernelspec": {
   "display_name": "Julia 1.8.0",
   "language": "julia",
   "name": "julia-1.8"
  },
  "language_info": {
   "file_extension": ".jl",
   "mimetype": "application/julia",
   "name": "julia",
   "version": "1.8.0"
  },
  "orig_nbformat": 4
 },
 "nbformat": 4,
 "nbformat_minor": 2
}
