{
 "cells": [
  {
   "cell_type": "code",
   "execution_count": 1,
   "metadata": {},
   "outputs": [
    {
     "name": "stderr",
     "output_type": "stream",
     "text": [
      "┌ Info: Precompiling BinDual [14b5a139-73c1-4dd1-8288-faaed9767f34]\n",
      "└ @ Base loading.jl:1662\n"
     ]
    }
   ],
   "source": [
    "using Revise\n",
    "using BinDual"
   ]
  },
  {
   "cell_type": "code",
   "execution_count": 2,
   "metadata": {},
   "outputs": [
    {
     "data": {
      "text/plain": [
       "instance (generic function with 1 method)"
      ]
     },
     "execution_count": 2,
     "metadata": {},
     "output_type": "execute_result"
    }
   ],
   "source": [
    "using DelimitedFiles: readdlm\n",
    "\n",
    "\n",
    "function instance(path)\n",
    "    M = readdlm(path)\n",
    "    n = M[1]\n",
    "    M = M[2:end, :]\n",
    "\n",
    "    A = zeros(Float64, n, n)\n",
    "    for i in 1:(n-1)\n",
    "        for j in 1:n - i\n",
    "            A[i, i + j] = M[i, j]\n",
    "        end\n",
    "    end\n",
    "\n",
    "    A\n",
    "end"
   ]
  },
  {
   "cell_type": "code",
   "execution_count": 3,
   "metadata": {},
   "outputs": [],
   "source": [
    "A = instance(\"/Users/belart/mit/mip/project/CP-Lib/MCF/kat_97.txt\");"
   ]
  },
  {
   "cell_type": "code",
   "execution_count": 9,
   "metadata": {},
   "outputs": [
    {
     "name": "stdout",
     "output_type": "stream",
     "text": [
      "best = 164.000\tlr = 0.100\tdisturb = 0.100\tit = 243\n",
      "best = 166.000\tlr = 0.100\tdisturb = 0.100\tit = 388\n",
      "best = 172.000\tlr = 0.100\tdisturb = 0.100\tit = 479\n",
      "best = 174.000\tlr = 0.059\tdisturb = 0.059\tit = 6806\n",
      "best = 175.000\tlr = 0.059\tdisturb = 0.059\tit = 6831\n"
     ]
    },
    {
     "ename": "LoadError",
     "evalue": "InterruptException:",
     "output_type": "error",
     "traceback": [
      "InterruptException:",
      "",
      "Stacktrace:",
      "  [1] Array",
      "    @ ./boot.jl:461 [inlined]",
      "  [2] Array",
      "    @ ./boot.jl:469 [inlined]",
      "  [3] Array",
      "    @ ./boot.jl:476 [inlined]",
      "  [4] similar",
      "    @ ./abstractarray.jl:841 [inlined]",
      "  [5] similar",
      "    @ ./abstractarray.jl:840 [inlined]",
      "  [6] similar",
      "    @ ./broadcast.jl:212 [inlined]",
      "  [7] similar",
      "    @ ./broadcast.jl:211 [inlined]",
      "  [8] copy",
      "    @ ./broadcast.jl:885 [inlined]",
      "  [9] materialize",
      "    @ ./broadcast.jl:860 [inlined]",
      " [10] _saddle_partition!(T::Matrix{Float64}, Q::Matrix{Float64}, A::Matrix{Float64}, Σ::Matrix{Float64}, Λ::Matrix{Float64}; maxit::Int64)",
      "    @ BinDual ~/code/BinDual/src/cliquepartitioning.jl:18",
      " [11] partition(A::Matrix{Float64}, m::Int64; maxit::Int64, tol::Float64, decay::Float64, lr::Float64, lrdecay::Float64, disturb::Float64, ddecay::Float64, pneg::Bool, bound::Float64)",
      "    @ BinDual ~/code/BinDual/src/cliquepartitioning.jl:58",
      " [12] eval",
      "    @ ./boot.jl:368 [inlined]",
      " [13] include_string(mapexpr::typeof(REPL.softscope), mod::Module, code::String, filename::String)",
      "    @ Base ./loading.jl:1428"
     ]
    }
   ],
   "source": [
    "T = BinDual.partition(A, 50, maxit=300_000, lr=.1, disturb=.1, pneg=true)"
   ]
  }
 ],
 "metadata": {
  "kernelspec": {
   "display_name": "Julia 1.8.0",
   "language": "julia",
   "name": "julia-1.8"
  },
  "language_info": {
   "file_extension": ".jl",
   "mimetype": "application/julia",
   "name": "julia",
   "version": "1.8.0"
  },
  "orig_nbformat": 4
 },
 "nbformat": 4,
 "nbformat_minor": 2
}
